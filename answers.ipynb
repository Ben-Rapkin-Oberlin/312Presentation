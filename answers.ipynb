{
 "cells": [
  {
   "cell_type": "code",
   "execution_count": 6,
   "metadata": {},
   "outputs": [
    {
     "name": "stdout",
     "output_type": "stream",
     "text": [
      "(18617, 13)\n"
     ]
    },
    {
     "data": {
      "text/html": [
       "<div>\n",
       "<style scoped>\n",
       "    .dataframe tbody tr th:only-of-type {\n",
       "        vertical-align: middle;\n",
       "    }\n",
       "\n",
       "    .dataframe tbody tr th {\n",
       "        vertical-align: top;\n",
       "    }\n",
       "\n",
       "    .dataframe thead th {\n",
       "        text-align: right;\n",
       "    }\n",
       "</style>\n",
       "<table border=\"1\" class=\"dataframe\">\n",
       "  <thead>\n",
       "    <tr style=\"text-align: right;\">\n",
       "      <th></th>\n",
       "      <th>congress</th>\n",
       "      <th>chamber</th>\n",
       "      <th>bioguide</th>\n",
       "      <th>firstname</th>\n",
       "      <th>middlename</th>\n",
       "      <th>lastname</th>\n",
       "      <th>suffix</th>\n",
       "      <th>birthday</th>\n",
       "      <th>state</th>\n",
       "      <th>party</th>\n",
       "      <th>incumbent</th>\n",
       "      <th>termstart</th>\n",
       "      <th>age</th>\n",
       "    </tr>\n",
       "  </thead>\n",
       "  <tbody>\n",
       "    <tr>\n",
       "      <th>0</th>\n",
       "      <td>80</td>\n",
       "      <td>house</td>\n",
       "      <td>M000112</td>\n",
       "      <td>Joseph</td>\n",
       "      <td>Jefferson</td>\n",
       "      <td>Mansfield</td>\n",
       "      <td>NaN</td>\n",
       "      <td>1861-02-09</td>\n",
       "      <td>TX</td>\n",
       "      <td>D</td>\n",
       "      <td>Yes</td>\n",
       "      <td>1947-01-03</td>\n",
       "      <td>85.9</td>\n",
       "    </tr>\n",
       "    <tr>\n",
       "      <th>1</th>\n",
       "      <td>80</td>\n",
       "      <td>house</td>\n",
       "      <td>D000448</td>\n",
       "      <td>Robert</td>\n",
       "      <td>Lee</td>\n",
       "      <td>Doughton</td>\n",
       "      <td>NaN</td>\n",
       "      <td>1863-11-07</td>\n",
       "      <td>NC</td>\n",
       "      <td>D</td>\n",
       "      <td>Yes</td>\n",
       "      <td>1947-01-03</td>\n",
       "      <td>83.2</td>\n",
       "    </tr>\n",
       "    <tr>\n",
       "      <th>2</th>\n",
       "      <td>80</td>\n",
       "      <td>house</td>\n",
       "      <td>S000001</td>\n",
       "      <td>Adolph</td>\n",
       "      <td>Joachim</td>\n",
       "      <td>Sabath</td>\n",
       "      <td>NaN</td>\n",
       "      <td>1866-04-04</td>\n",
       "      <td>IL</td>\n",
       "      <td>D</td>\n",
       "      <td>Yes</td>\n",
       "      <td>1947-01-03</td>\n",
       "      <td>80.7</td>\n",
       "    </tr>\n",
       "    <tr>\n",
       "      <th>3</th>\n",
       "      <td>80</td>\n",
       "      <td>house</td>\n",
       "      <td>E000023</td>\n",
       "      <td>Charles</td>\n",
       "      <td>Aubrey</td>\n",
       "      <td>Eaton</td>\n",
       "      <td>NaN</td>\n",
       "      <td>1868-03-29</td>\n",
       "      <td>NJ</td>\n",
       "      <td>R</td>\n",
       "      <td>Yes</td>\n",
       "      <td>1947-01-03</td>\n",
       "      <td>78.8</td>\n",
       "    </tr>\n",
       "    <tr>\n",
       "      <th>4</th>\n",
       "      <td>80</td>\n",
       "      <td>house</td>\n",
       "      <td>L000296</td>\n",
       "      <td>William</td>\n",
       "      <td>NaN</td>\n",
       "      <td>Lewis</td>\n",
       "      <td>NaN</td>\n",
       "      <td>1868-09-22</td>\n",
       "      <td>KY</td>\n",
       "      <td>R</td>\n",
       "      <td>No</td>\n",
       "      <td>1947-01-03</td>\n",
       "      <td>78.3</td>\n",
       "    </tr>\n",
       "  </tbody>\n",
       "</table>\n",
       "</div>"
      ],
      "text/plain": [
       "   congress chamber bioguide firstname middlename   lastname suffix  \\\n",
       "0        80   house  M000112    Joseph  Jefferson  Mansfield    NaN   \n",
       "1        80   house  D000448    Robert        Lee   Doughton    NaN   \n",
       "2        80   house  S000001    Adolph    Joachim     Sabath    NaN   \n",
       "3        80   house  E000023   Charles     Aubrey      Eaton    NaN   \n",
       "4        80   house  L000296   William        NaN      Lewis    NaN   \n",
       "\n",
       "     birthday state party incumbent   termstart   age  \n",
       "0  1861-02-09    TX     D       Yes  1947-01-03  85.9  \n",
       "1  1863-11-07    NC     D       Yes  1947-01-03  83.2  \n",
       "2  1866-04-04    IL     D       Yes  1947-01-03  80.7  \n",
       "3  1868-03-29    NJ     R       Yes  1947-01-03  78.8  \n",
       "4  1868-09-22    KY     R        No  1947-01-03  78.3  "
      ]
     },
     "execution_count": 6,
     "metadata": {},
     "output_type": "execute_result"
    }
   ],
   "source": [
    "import pandas as pd\n",
    "\n",
    "df = pd.read_csv('congress-terms.csv', on_bad_lines='skip')\n",
    "print(df.shape)\n",
    "df.head() "
   ]
  },
  {
   "cell_type": "code",
   "execution_count": 7,
   "metadata": {},
   "outputs": [
    {
     "data": {
      "text/html": [
       "<div>\n",
       "<style scoped>\n",
       "    .dataframe tbody tr th:only-of-type {\n",
       "        vertical-align: middle;\n",
       "    }\n",
       "\n",
       "    .dataframe tbody tr th {\n",
       "        vertical-align: top;\n",
       "    }\n",
       "\n",
       "    .dataframe thead th {\n",
       "        text-align: right;\n",
       "    }\n",
       "</style>\n",
       "<table border=\"1\" class=\"dataframe\">\n",
       "  <thead>\n",
       "    <tr style=\"text-align: right;\">\n",
       "      <th></th>\n",
       "      <th>congress</th>\n",
       "      <th>chamber</th>\n",
       "      <th>termstart</th>\n",
       "    </tr>\n",
       "  </thead>\n",
       "  <tbody>\n",
       "    <tr>\n",
       "      <th>0</th>\n",
       "      <td>80</td>\n",
       "      <td>house</td>\n",
       "      <td>1947-01-03</td>\n",
       "    </tr>\n",
       "    <tr>\n",
       "      <th>1</th>\n",
       "      <td>80</td>\n",
       "      <td>house</td>\n",
       "      <td>1947-01-03</td>\n",
       "    </tr>\n",
       "    <tr>\n",
       "      <th>2</th>\n",
       "      <td>80</td>\n",
       "      <td>house</td>\n",
       "      <td>1947-01-03</td>\n",
       "    </tr>\n",
       "    <tr>\n",
       "      <th>3</th>\n",
       "      <td>80</td>\n",
       "      <td>house</td>\n",
       "      <td>1947-01-03</td>\n",
       "    </tr>\n",
       "    <tr>\n",
       "      <th>4</th>\n",
       "      <td>80</td>\n",
       "      <td>house</td>\n",
       "      <td>1947-01-03</td>\n",
       "    </tr>\n",
       "  </tbody>\n",
       "</table>\n",
       "</div>"
      ],
      "text/plain": [
       "   congress chamber   termstart\n",
       "0        80   house  1947-01-03\n",
       "1        80   house  1947-01-03\n",
       "2        80   house  1947-01-03\n",
       "3        80   house  1947-01-03\n",
       "4        80   house  1947-01-03"
      ]
     },
     "execution_count": 7,
     "metadata": {},
     "output_type": "execute_result"
    }
   ],
   "source": [
    "new=df[df.state=='GA']\n",
    "new=new.loc[:,['congress','chamber','termstart']].reset_index(drop=True)\n",
    "new.head()"
   ]
  },
  {
   "cell_type": "code",
   "execution_count": 15,
   "metadata": {},
   "outputs": [
    {
     "name": "stdout",
     "output_type": "stream",
     "text": [
      "79.5 µs ± 8.94 µs per loop (mean ± std. dev. of 100 runs, 1,000 loops each)\n"
     ]
    }
   ],
   "source": [
    "%%timeit -r 100 -n 1000\n",
    "df.age.mean() # outputs 53.31484127410438 "
   ]
  },
  {
   "cell_type": "code",
   "execution_count": 16,
   "metadata": {},
   "outputs": [
    {
     "name": "stdout",
     "output_type": "stream",
     "text": [
      "97.7 ms ± 5.38 ms per loop (mean ± std. dev. of 3 runs, 10 loops each)\n"
     ]
    }
   ],
   "source": [
    "%%timeit -r 3 -n 10\n",
    "total=0\n",
    "for i in range(len(df)):\n",
    "    total+=df.at[i,'age']\n",
    "total/df.shape[0] # outputs 53.31484127410438 \n",
    "\n"
   ]
  }
 ],
 "metadata": {
  "kernelspec": {
   "display_name": "Python 3.9.12 ('base')",
   "language": "python",
   "name": "python3"
  },
  "language_info": {
   "codemirror_mode": {
    "name": "ipython",
    "version": 3
   },
   "file_extension": ".py",
   "mimetype": "text/x-python",
   "name": "python",
   "nbconvert_exporter": "python",
   "pygments_lexer": "ipython3",
   "version": "3.9.12"
  },
  "orig_nbformat": 4,
  "vscode": {
   "interpreter": {
    "hash": "03ce18a5355acd2ac2707c2ac8876e964961f405af680df065d80570d2d98692"
   }
  }
 },
 "nbformat": 4,
 "nbformat_minor": 2
}
