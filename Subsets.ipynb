{
 "cells": [
  {
   "cell_type": "markdown",
   "metadata": {},
   "source": [
    "Now that we have looked at accessing Dataframes, let look at using them!"
   ]
  },
  {
   "cell_type": "code",
   "execution_count": 23,
   "metadata": {},
   "outputs": [],
   "source": [
    "import pandas as pd\n",
    "import numpy as np\n",
    "import time \n",
    "\n",
    "df = pd.read_csv('congress-terms.csv', on_bad_lines='skip')\n"
   ]
  },
  {
   "cell_type": "markdown",
   "metadata": {},
   "source": [
    "Now that we have our Dataframe loaded in, lets take a look at how we can actually use the data. In this example, we want to loop through the dataframe and make a list of string from the first and last names of each representative"
   ]
  },
  {
   "cell_type": "markdown",
   "metadata": {},
   "source": [
    "Remember that there are three common ways to loop through a dataset: Index Based, Iterators, and List Comprehensions. Lets start with the first one as iloc and loc fall into those categories"
   ]
  },
  {
   "cell_type": "code",
   "execution_count": 24,
   "metadata": {},
   "outputs": [
    {
     "name": "stdout",
     "output_type": "stream",
     "text": [
      "['john smith', 'jane doe']\n"
     ]
    }
   ],
   "source": [
    "a=[['john','smith'],['jane','doe']]\n",
    "total=[]\n",
    "for i in range(len(a)):\n",
    "    total.append(a[i][0]+' '+a[i][1])\n",
    "print(total)"
   ]
  },
  {
   "cell_type": "code",
   "execution_count": 25,
   "metadata": {},
   "outputs": [
    {
     "name": "stdout",
     "output_type": "stream",
     "text": [
      "625 ms ± 8.91 ms per loop (mean ± std. dev. of 3 runs, 10 loops each)\n"
     ]
    }
   ],
   "source": [
    "%%timeit -r 3 -n 10\n",
    "# For loop with .iloc\n",
    "total = []\n",
    "for index in range(len(df)):\n",
    "       total.append(df.iloc[index,3]+' '+df.iloc[index,5])"
   ]
  },
  {
   "cell_type": "code",
   "execution_count": 26,
   "metadata": {},
   "outputs": [
    {
     "name": "stdout",
     "output_type": "stream",
     "text": [
      "266 ms ± 2.44 ms per loop (mean ± std. dev. of 3 runs, 10 loops each)\n"
     ]
    }
   ],
   "source": [
    "%%timeit -r 3 -n 10\n",
    "# For loop with .loc\n",
    "total = []\n",
    "for index in range(len(df)):\n",
    "        total.append(df.loc[index,'firstname']+' '+df.loc[index,'lastname'])"
   ]
  },
  {
   "cell_type": "markdown",
   "metadata": {},
   "source": [
    "We can also use iat and at which are like iloc and loc respectivly, but meant to only access single values aka scalars from the data from"
   ]
  },
  {
   "cell_type": "code",
   "execution_count": 27,
   "metadata": {},
   "outputs": [],
   "source": [
    "#df.iat[0:5,12]"
   ]
  },
  {
   "cell_type": "code",
   "execution_count": 28,
   "metadata": {},
   "outputs": [
    {
     "name": "stdout",
     "output_type": "stream",
     "text": [
      "487 ms ± 16 ms per loop (mean ± std. dev. of 3 runs, 10 loops each)\n"
     ]
    }
   ],
   "source": [
    "%%timeit -r 3 -n 10\n",
    "# For loop with .iat\n",
    "total = []\n",
    "for index in range(len(df)):\n",
    "       total.append(df.iat[index,3]+' '+df.iat[index,5])"
   ]
  },
  {
   "cell_type": "code",
   "execution_count": 29,
   "metadata": {},
   "outputs": [
    {
     "name": "stdout",
     "output_type": "stream",
     "text": [
      "122 ms ± 1.4 ms per loop (mean ± std. dev. of 3 runs, 10 loops each)\n"
     ]
    }
   ],
   "source": [
    "%%timeit -r 3 -n 10\n",
    "# For loop with .at\n",
    "total = []\n",
    "for index in range(len(df)):\n",
    "        total.append(df.at[index,'firstname']+' '+df.at[index,'lastname'])"
   ]
  },
  {
   "cell_type": "markdown",
   "metadata": {},
   "source": [
    "The next way we loop through a list is via built in iterators. This way is often more readable and can even be faster than indices if you need to access the value multiple time per loop. However, it's important to note that unlike the last examples, you can't alter the data your iterating. Lets take a look"
   ]
  },
  {
   "cell_type": "code",
   "execution_count": 30,
   "metadata": {},
   "outputs": [
    {
     "name": "stdout",
     "output_type": "stream",
     "text": [
      "['john smith', 'jane doe']\n"
     ]
    }
   ],
   "source": [
    "a=[['john','smith'],['jane','doe']]\n",
    "total=[]\n",
    "for i in a:\n",
    "    total.append(i[0]+' '+i[1])\n",
    "print(total)"
   ]
  },
  {
   "cell_type": "markdown",
   "metadata": {},
   "source": [
    "In this vein, Pandas has a built in method call iterrows, which returns an object of series which we can iterate through"
   ]
  },
  {
   "cell_type": "code",
   "execution_count": 31,
   "metadata": {},
   "outputs": [
    {
     "name": "stdout",
     "output_type": "stream",
     "text": [
      "617 ms ± 20.1 ms per loop (mean ± std. dev. of 3 runs, 10 loops each)\n"
     ]
    }
   ],
   "source": [
    "%%timeit -r 3 -n 10\n",
    "# Iterrows\n",
    "total=[]\n",
    "for index,row in df.iterrows():\n",
    "    total.append(row['firstname']+' '+row['lastname'])"
   ]
  },
  {
   "cell_type": "markdown",
   "metadata": {},
   "source": [
    "This is typically one of the slowest way to loop through a dataframe, however, there is an alternative called itertuples! it, similar to iterrows, returns a list of tuples to loop through which is much faster"
   ]
  },
  {
   "cell_type": "code",
   "execution_count": 32,
   "metadata": {},
   "outputs": [
    {
     "name": "stdout",
     "output_type": "stream",
     "text": [
      "22.6 ms ± 624 µs per loop (mean ± std. dev. of 10 runs, 10 loops each)\n"
     ]
    }
   ],
   "source": [
    "%%timeit -r 10 -n 10\n",
    "total = []\n",
    "for row in df.itertuples():\n",
    "    total.append(row.firstname+' '+row.lastname)"
   ]
  },
  {
   "cell_type": "markdown",
   "metadata": {},
   "source": [
    "But why is this method over 20x faster? It has to due with the what objects are actually in play. In python, the size of an object is often directly corrailated to it's processing speed. This is due to two reasons, the first being that there is physically more memory and information to manipulate when dealing with larger objects. The second is that typically large objects in python have more potiential actions to take and thus require much more C code to represent. To get a sence of this, lets look at a simple list"
   ]
  },
  {
   "cell_type": "code",
   "execution_count": 33,
   "metadata": {},
   "outputs": [],
   "source": [
    "a=[1,\"a\",.111111]"
   ]
  },
  {
   "cell_type": "markdown",
   "metadata": {},
   "source": [
    "Becuase python lists can hold any data types, the code C to instanciate one must be prepared to deal with allocating memory not only by size but also by type. In this manner, as objects gain more complexity, often (but not always) they can become slower to work with"
   ]
  },
  {
   "cell_type": "code",
   "execution_count": 34,
   "metadata": {},
   "outputs": [
    {
     "name": "stdout",
     "output_type": "stream",
     "text": [
      "96.7 ns ± 14.9 ns per loop (mean ± std. dev. of 100 runs, 1,000 loops each)\n"
     ]
    }
   ],
   "source": [
    "%%timeit -r 100 -n 1000\n",
    "a=[1,2,3] #size of a is 120 bytes\n",
    "for i in a:\n",
    "    pass"
   ]
  },
  {
   "cell_type": "code",
   "execution_count": 35,
   "metadata": {},
   "outputs": [
    {
     "name": "stdout",
     "output_type": "stream",
     "text": [
      "164 ns ± 32.5 ns per loop (mean ± std. dev. of 100 runs, 1,000 loops each)\n"
     ]
    }
   ],
   "source": [
    "%%timeit -r 100 -n 1000\n",
    "a={0: 1, 1: 2, 2: 3} #size of a is 232 bytes\n",
    "for i in a:\n",
    "    pass"
   ]
  },
  {
   "cell_type": "code",
   "execution_count": 36,
   "metadata": {},
   "outputs": [
    {
     "name": "stdout",
     "output_type": "stream",
     "text": [
      "<class 'generator'> 112 bytes\n",
      "<class 'pandas.core.series.Series'> 2140 bytes\n",
      "<class 'int'> 24 bytes\n"
     ]
    }
   ],
   "source": [
    "print(type(df.iterrows()),(sys.getsizeof(df.iterrows())), \"bytes\")\n",
    "for index, row in df.iterrows():\n",
    "    print(type(row),sys.getsizeof(row), \"bytes\")\n",
    "    print(type(index),sys.getsizeof(index), \"bytes\")\n",
    "    break"
   ]
  },
  {
   "cell_type": "code",
   "execution_count": 37,
   "metadata": {},
   "outputs": [
    {
     "name": "stdout",
     "output_type": "stream",
     "text": [
      "<class 'map'> 48 bytes\n",
      "<class 'pandas.core.frame.Pandas'> 152 bytes\n"
     ]
    }
   ],
   "source": [
    "print(type(df.itertuples()),sys.getsizeof(df.itertuples()),\"bytes\")\n",
    "\n",
    "for row in df.itertuples():\n",
    "    print(type(row), (sys.getsizeof(row)), \"bytes\")\n",
    "    break\n"
   ]
  },
  {
   "cell_type": "markdown",
   "metadata": {},
   "source": [
    "Great! Now we can move on to and even smaller syntax, list comprehension!"
   ]
  },
  {
   "cell_type": "code",
   "execution_count": 41,
   "metadata": {},
   "outputs": [
    {
     "name": "stdout",
     "output_type": "stream",
     "text": [
      "['john smith', 'jane doe']\n"
     ]
    }
   ],
   "source": [
    "a=[['john','smith'],['jane','doe']]\n",
    "total=[x[0]+\" \"+x[1] for x in a]\n",
    "print(total)"
   ]
  },
  {
   "cell_type": "markdown",
   "metadata": {},
   "source": [
    "The next is a built in method called apply, while we will talk more about this in a later lecture, for now all you need to know is it maps a function over some part of the dataframe!"
   ]
  },
  {
   "cell_type": "code",
   "execution_count": 39,
   "metadata": {},
   "outputs": [
    {
     "name": "stdout",
     "output_type": "stream",
     "text": [
      "4.66 ms ± 404 µs per loop (mean ± std. dev. of 10 runs, 100 loops each)\n"
     ]
    }
   ],
   "source": [
    "%%timeit -r 10 -n 100\n",
    "# List comprehension\n",
    "total=[x+' '+y for x,y in zip(df['firstname'], df['lastname'])]\n"
   ]
  },
  {
   "cell_type": "markdown",
   "metadata": {},
   "source": [
    "Vectorization! In the previous one we looped over a "
   ]
  },
  {
   "cell_type": "code",
   "execution_count": null,
   "metadata": {},
   "outputs": [
    {
     "name": "stdout",
     "output_type": "stream",
     "text": [
      "1.09 ms ± 122 µs per loop (mean ± std. dev. of 10 runs, 100 loops each)\n"
     ]
    }
   ],
   "source": [
    "%%timeit -r 10 -n 100\n",
    "total=(df['firstname']+df['lastname']).tolist()"
   ]
  },
  {
   "cell_type": "code",
   "execution_count": null,
   "metadata": {},
   "outputs": [
    {
     "name": "stdout",
     "output_type": "stream",
     "text": [
      "1.02 ms ± 101 µs per loop (mean ± std. dev. of 10 runs, 100 loops each)\n"
     ]
    }
   ],
   "source": [
    "%%timeit -r 10 -n 10000\n",
    "total=(df['firstname'].to_numpy()+\" \"+ df['lastname'].to_numpy()).tolist()"
   ]
  },
  {
   "cell_type": "markdown",
   "metadata": {},
   "source": [
    "Vectorization!"
   ]
  },
  {
   "cell_type": "markdown",
   "metadata": {},
   "source": [
    "Numpy"
   ]
  },
  {
   "cell_type": "code",
   "execution_count": null,
   "metadata": {},
   "outputs": [],
   "source": [
    "%%timeit -r 10 -n 100\n",
    "# Apply\n",
    "total=0\n",
    "for i in df.apply(lambda row: row['age'], axis=1).to_list():\n",
    "    total+=i\n",
    "total/len(df)"
   ]
  }
 ],
 "metadata": {
  "kernelspec": {
   "display_name": "Python 3.9.12 ('base')",
   "language": "python",
   "name": "python3"
  },
  "language_info": {
   "codemirror_mode": {
    "name": "ipython",
    "version": 3
   },
   "file_extension": ".py",
   "mimetype": "text/x-python",
   "name": "python",
   "nbconvert_exporter": "python",
   "pygments_lexer": "ipython3",
   "version": "3.9.12"
  },
  "orig_nbformat": 4,
  "vscode": {
   "interpreter": {
    "hash": "03ce18a5355acd2ac2707c2ac8876e964961f405af680df065d80570d2d98692"
   }
  }
 },
 "nbformat": 4,
 "nbformat_minor": 2
}
